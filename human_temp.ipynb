{
 "cells": [
  {
   "cell_type": "markdown",
   "metadata": {},
   "source": [
    "# What is the True Normal Human Body Temperature? \n",
    "\n",
    "#### Background\n",
    "\n",
    "The mean normal body temperature was held to be 37$^{\\circ}$C or 98.6$^{\\circ}$F for more than 120 years since it was first conceptualized and reported by Carl Wunderlich in a famous 1868 book. But, is this value statistically correct?"
   ]
  },
  {
   "cell_type": "markdown",
   "metadata": {},
   "source": [
    "<h3>Exercises</h3>\n",
    "\n",
    "<p>In this exercise, you will analyze a dataset of human body temperatures and employ the concepts of hypothesis testing, confidence intervals, and statistical significance.</p>\n",
    "\n",
    "<p>Answer the following questions <b>in this notebook below and submit to your Github account</b>.</p> \n",
    "\n",
    "<ol>\n",
    "<li>  Is the distribution of body temperatures normal? \n",
    "    <ul>\n",
    "    <li> Although this is not a requirement for the Central Limit Theorem to hold (read the introduction on Wikipedia's page about the CLT carefully: https://en.wikipedia.org/wiki/Central_limit_theorem), it gives us some peace of mind that the population may also be normally distributed if we assume that this sample is representative of the population.\n",
    "    <li> Think about the way you're going to check for the normality of the distribution. Graphical methods are usually used first, but there are also other ways: https://en.wikipedia.org/wiki/Normality_test\n",
    "    </ul>\n",
    "<li>  Is the sample size large? Are the observations independent?\n",
    "    <ul>\n",
    "    <li> Remember that this is a condition for the Central Limit Theorem, and hence the statistical tests we are using, to apply.\n",
    "    </ul>\n",
    "<li>  Is the true population mean really 98.6 degrees F?\n",
    "    <ul>\n",
    "    <li> First, try a bootstrap hypothesis test.\n",
    "    <li> Now, let's try frequentist statistical testing. Would you use a one-sample or two-sample test? Why?\n",
    "    <li> In this situation, is it appropriate to use the $t$ or $z$ statistic? \n",
    "    <li> Now try using the other test. How is the result different? Why?\n",
    "    </ul>\n",
    "<li>  Draw a small sample of size 10 from the data and repeat both frequentist tests. \n",
    "    <ul>\n",
    "    <li> Which one is the correct one to use? \n",
    "    <li> What do you notice? What does this tell you about the difference in application of the $t$ and $z$ statistic?\n",
    "    </ul>\n",
    "<li>  At what temperature should we consider someone's temperature to be \"abnormal\"?\n",
    "    <ul>\n",
    "    <li> As in the previous example, try calculating everything using the boostrap approach, as well as the frequentist approach.\n",
    "    <li> Start by computing the margin of error and confidence interval. When calculating the confidence interval, keep in mind that you should use the appropriate formula for one draw, and not N draws.\n",
    "    </ul>\n",
    "<li>  Is there a significant difference between males and females in normal temperature?\n",
    "    <ul>\n",
    "    <li> What testing approach did you use and why?\n",
    "    <li> Write a story with your conclusion in the context of the original problem.\n",
    "    </ul>\n",
    "</ol>\n",
    "\n",
    "You can include written notes in notebook cells using Markdown: \n",
    "   - In the control panel at the top, choose Cell > Cell Type > Markdown\n",
    "   - Markdown syntax: http://nestacms.com/docs/creating-content/markdown-cheat-sheet\n",
    "\n",
    "#### Resources\n",
    "\n",
    "+ Information and data sources: http://www.amstat.org/publications/jse/datasets/normtemp.txt, http://www.amstat.org/publications/jse/jse_data_archive.htm\n",
    "+ Markdown syntax: http://nestacms.com/docs/creating-content/markdown-cheat-sheet\n",
    "\n",
    "****"
   ]
  },
  {
   "cell_type": "code",
   "execution_count": 1,
   "metadata": {},
   "outputs": [],
   "source": [
    "import pandas as pd\n",
    "import matplotlib.pyplot as plt\n",
    "import seaborn as sns\n",
    "import numpy as np\n",
    "import scipy\n",
    "df = pd.read_csv('data/human_body_temperature.csv')"
   ]
  },
  {
   "cell_type": "markdown",
   "metadata": {},
   "source": [
    "### Is the distribution of body temperatures normal?"
   ]
  },
  {
   "cell_type": "code",
   "execution_count": 3,
   "metadata": {},
   "outputs": [
    {
     "name": "stdout",
     "output_type": "stream",
     "text": [
      "Mean of sample temperatures:  98.24923076923075\n"
     ]
    }
   ],
   "source": [
    "print('Mean of sample temperatures: ', np.mean(df.temperature.values))"
   ]
  },
  {
   "cell_type": "code",
   "execution_count": 4,
   "metadata": {},
   "outputs": [
    {
     "data": {
      "image/png": "[encoded data removed]",
      "text/plain": [
       "<Figure size 432x288 with 1 Axes>"
      ]
     },
     "metadata": {},
     "output_type": "display_data"
    }
   ],
   "source": [
    "_=plt.hist(df.temperature.values, density=True, bins=130)\n",
    "plt.show()"
   ]
  },
  {
   "cell_type": "markdown",
   "metadata": {},
   "source": [
    "<div class=\"span5 alert alert-success\">\n",
    "<p> Looking at the histogram above, our data appears to be normally distributed. This allows us to proceed with our statistical methods. </p>\n",
    "</div>"
   ]
  },
  {
   "cell_type": "markdown",
   "metadata": {},
   "source": [
    "### Is the sample size large? Are the observations independent?"
   ]
  },
  {
   "cell_type": "code",
   "execution_count": 5,
   "metadata": {},
   "outputs": [
    {
     "data": {
      "text/plain": [
       "temperature    130\n",
       "gender         130\n",
       "heart_rate     130\n",
       "dtype: int64"
      ]
     },
     "execution_count": 5,
     "metadata": {},
     "output_type": "execute_result"
    }
   ],
   "source": [
    "df.count()"
   ]
  },
  {
   "cell_type": "markdown",
   "metadata": {},
   "source": [
    "<div class=\"span5 alert alert-success\">\n",
    "<p> Our data contains 130 elements, which is a relatively large sample size. <br>\n",
    "Our data can be considered indepent variables as long as the sample size is <=10% of the population size, which is surely the case as the entire human population is upwards of 7 billion <br>\n",
    "    </p>\n",
    "</div>"
   ]
  },
  {
   "cell_type": "markdown",
   "metadata": {},
   "source": [
    "### Is the true population mean really 98.6 degrees F?"
   ]
  },
  {
   "cell_type": "markdown",
   "metadata": {},
   "source": [
    "To approach this question, we will employ two types of statistical testing. \n",
    "\n",
    "1. Bootstrap Hypothesis Test\n",
    "2. Frequentist Statistical Test"
   ]
  },
  {
   "cell_type": "markdown",
   "metadata": {},
   "source": [
    "### Bootstrap Hypothesis Test"
   ]
  },
  {
   "cell_type": "markdown",
   "metadata": {},
   "source": [
    "To start our bootstrap hypothesis testing we first generate a bootstrap sample of our original data. This is done by pulling random elements from our data 10000 times. We then want to shift our bootstrap sample mean to that of the proposed accepted mean 98.6. Our original sample mean is 98.25- so from our shifted bootstrap sample, we will shift our boostrap sample by the appropriate amount such that its new mean is 98.6. From here, we will construct 10000 of these shifted samples and examine all of their means. The bootstrap p-value is then the *proportion* of samples whose means are in the threshold of interest"
   ]
  },
  {
   "cell_type": "code",
   "execution_count": 6,
   "metadata": {},
   "outputs": [],
   "source": [
    "bs_sample= np.random.choice(df.temperature.values,size=10000)\n",
    "temp_shift= bs_sample-np.mean(df.temperature.values)+98.6"
   ]
  },
  {
   "cell_type": "code",
   "execution_count": 7,
   "metadata": {},
   "outputs": [],
   "source": [
    "def bootstrap_replicate_1d(data, func):\n",
    "    return func(np.random.choice(data, size=len(data)))\n",
    "def draw_bs_reps(data, func, size=1):\n",
    "    \"\"\"Draw bootstrap replicates.\"\"\"\n",
    "\n",
    "    # Initialize array of replicates: bs_replicates\n",
    "    bs_replicates = np.empty(size)\n",
    "\n",
    "    # Generate replicates\n",
    "    for i in range(size):\n",
    "        bs_replicates[i] = bootstrap_replicate_1d(data,func)\n",
    "\n",
    "    return bs_replicates"
   ]
  },
  {
   "cell_type": "code",
   "execution_count": 8,
   "metadata": {},
   "outputs": [
    {
     "name": "stdout",
     "output_type": "stream",
     "text": [
      "p value: 0.1459\n"
     ]
    }
   ],
   "source": [
    "bs_shift= draw_bs_reps(temp_shift,np.mean,10000)\n",
    "p_value= np.sum(bs_shift<98.6)/len(bs_shift)\n",
    "print('p value:', p_value)"
   ]
  },
  {
   "cell_type": "markdown",
   "metadata": {},
   "source": [
    "<div class=\"span5 alert alert-success\">\n",
    "<p> This is a high p value and it suggests that we cannot reject the null hypothesis which states that the human body temperature is 98.6 </p> </div>"
   ]
  },
  {
   "cell_type": "markdown",
   "metadata": {},
   "source": [
    "### Frequentist Statistical Testing"
   ]
  },
  {
   "cell_type": "markdown",
   "metadata": {},
   "source": [
    "We will use one-sample z and t testing in the upcoming statistical analysis. Since we only have one sample of data to work with and are comparing it to an accepted mean, this model of testing is appropriate.\n",
    "\n",
    "**Null hypothesis:** Human body temperature = 98.6 degrees Fahrenheit <br>\n",
    "**Alternative hypothesis:** Human body temperature <> 98.6 degrees Fahrenheit"
   ]
  },
  {
   "cell_type": "code",
   "execution_count": 9,
   "metadata": {},
   "outputs": [],
   "source": [
    "data= df.temperature.values\n",
    "accepted_value= 98.6"
   ]
  },
  {
   "cell_type": "markdown",
   "metadata": {},
   "source": [
    "When performing the z-test we must **approximate** the standard deviation of the *population* with the standard deviation of the *sample*. Since the sample is normally distributed, we can be confident in our approximation. "
   ]
  },
  {
   "cell_type": "code",
   "execution_count": 10,
   "metadata": {},
   "outputs": [
    {
     "name": "stdout",
     "output_type": "stream",
     "text": [
      "z-value:  -5.4759252020785585\n"
     ]
    }
   ],
   "source": [
    "z_value= (np.mean(data)-accepted_value)/(np.std(data)/np.sqrt(len(data)))\n",
    "print(\"z-value: \",z_value)"
   ]
  },
  {
   "cell_type": "code",
   "execution_count": 11,
   "metadata": {},
   "outputs": [
    {
     "name": "stdout",
     "output_type": "stream",
     "text": [
      "p-value from z statistic:  4.3523151658713056e-08\n"
     ]
    }
   ],
   "source": [
    "p_value_z= scipy.stats.norm.sf(abs(z_value))*2\n",
    "print(\"p-value from z statistic: \", p_value_z)"
   ]
  },
  {
   "cell_type": "markdown",
   "metadata": {},
   "source": [
    "Now to perform a t-test we will pull samples of size n=30 and n=60 from our original sample data and compute our t-values based on the corresponding standard deviations and sample sizes n"
   ]
  },
  {
   "cell_type": "code",
   "execution_count": 12,
   "metadata": {},
   "outputs": [
    {
     "name": "stdout",
     "output_type": "stream",
     "text": [
      "t-value (n=30):  -2.540508466219164\n",
      "t-value (n=60):  -3.3998424947103127\n",
      "p-value from t (n=30) statistic:  0.016682179245085086\n",
      "p-value from t (n=60) statistic:  0.0012146038354369905\n"
     ]
    }
   ],
   "source": [
    "t_sample30= np.random.choice(data,30)\n",
    "t_value30= (np.mean(t_sample30)-accepted_value)/(np.std(t_sample30)/np.sqrt(len(t_sample30)))\n",
    "t_sample60= np.random.choice(data,60)\n",
    "t_value60= (np.mean(t_sample60)-accepted_value)/(np.std(t_sample60)/np.sqrt(len(t_sample60)))\n",
    "print(\"t-value (n=30): \", t_value30)\n",
    "print(\"t-value (n=60): \", t_value60)\n",
    "\n",
    "# to compute p-values from our t statistics, we will use the scipy library\n",
    "p_value_t30= scipy.stats.t.sf(abs(t_value30),len(t_sample30)-1)*2\n",
    "p_value_t60= scipy.stats.t.sf(abs(t_value60),len(t_sample60)-1)*2\n",
    "print(\"p-value from t (n=30) statistic: \", p_value_t30)\n",
    "print(\"p-value from t (n=60) statistic: \", p_value_t60)"
   ]
  },
  {
   "cell_type": "markdown",
   "metadata": {},
   "source": [
    "<div class=\"span5 alert alert-success\">\n",
    "<p> The results from the seperate t and z-test yeild different p-values. The biggest contributing factor to these different p-values was the sample size that we used. In the z-test we used all of the data from the original dataset n=130. However, in the two t-tests we used samples of the original data of size n=30 and n=60 </p> </div>"
   ]
  },
  {
   "cell_type": "markdown",
   "metadata": {},
   "source": [
    "<div class=\"span5 alert alert-success\">\n",
    "<p> In Summation: <br> <br>\n",
    "\n",
    "\n",
    "The results of the bootstrap test were inconclusive to the point where we could not reject the null hypothesis.However, the p-values computed from the z-test and the two t-tests are independently significant (< $\\alpha$) and both support the claim to reject the null hypothesis. Therefore, we reject the null hypothesis that the human body temperature is 98.5 degrees F </p> </div>"
   ]
  },
  {
   "cell_type": "markdown",
   "metadata": {},
   "source": [
    "### Draw a small sample of size 10 from the data and repeat both frequentist tests"
   ]
  },
  {
   "cell_type": "markdown",
   "metadata": {},
   "source": [
    "For testing a sample of size n=10 with an unknown population standard deviation, we expect the most appropriate test to be a t-test. However, we will perform a z-test using an estimated population standard deviation derived from our sample standard deviation."
   ]
  },
  {
   "cell_type": "code",
   "execution_count": 13,
   "metadata": {},
   "outputs": [
    {
     "name": "stdout",
     "output_type": "stream",
     "text": [
      "z-value:  -1.1626725970245169\n",
      "t-value:  -1.1626725970245169\n",
      "p-value from z statistic:  0.12248118189751428\n",
      "p-value from t statistic:  0.13743170319448303\n"
     ]
    }
   ],
   "source": [
    "sample10= np.random.choice(data, 10)\n",
    "t_value10= (np.mean(sample10)-accepted_value)/(np.std(sample10)/np.sqrt(len(sample10)))\n",
    "z_value10= (np.mean(sample10)-accepted_value)/(np.std(sample10)/np.sqrt(len(sample10)))\n",
    "p_value_t10= scipy.stats.t.sf(abs(t_value10),len(sample10)-1)\n",
    "p_value_z10= scipy.stats.norm.sf(abs(z_value10))\n",
    "print(\"z-value: \", z_value10)\n",
    "print(\"t-value: \", t_value10)\n",
    "print(\"p-value from z statistic: \", p_value_z10)\n",
    "print(\"p-value from t statistic: \", p_value_t10)"
   ]
  },
  {
   "cell_type": "markdown",
   "metadata": {},
   "source": [
    "<div class=\"span5 alert alert-success\">\n",
    "<p> The performance of both the z-test and the t-test shows the relationship between the z and the t statistics. The computed z and t values are equivalent due to the initial conditions and assumptions we had to make from our data. Therefore the corresponding p-values are very similar. </p> </div>"
   ]
  },
  {
   "cell_type": "markdown",
   "metadata": {},
   "source": [
    "### At what temperature should we consider someone's temperature to be \"abnormal\"?"
   ]
  },
  {
   "cell_type": "markdown",
   "metadata": {},
   "source": [
    "We will reach our conclusion of \"abnormal\" temperature by the following: \n",
    "\n",
    "Compute 95% confidence interval to discover where \"true\" body temperature of population lies with 95%\n",
    "\n",
    "This will give an interval of our normally distributed data. Any temperature that lies well outside this interval should be considered abnormal."
   ]
  },
  {
   "cell_type": "markdown",
   "metadata": {},
   "source": [
    "### Frequentist Approach"
   ]
  },
  {
   "cell_type": "code",
   "execution_count": 14,
   "metadata": {},
   "outputs": [],
   "source": [
    "# standard error function\n",
    "def ci_95(data):\n",
    "    stderr= np.std(data)/np.sqrt(len(data))\n",
    "    z_95= 1.960\n",
    "    MoE= z_95*stderr\n",
    "    print(\"Margin of Error (at 95% confidence): \", MoE)\n",
    "    print(\"95% Confidence Interval: \", np.array([np.mean(data)-MoE, np.mean(data)+MoE]))"
   ]
  },
  {
   "cell_type": "code",
   "execution_count": 15,
   "metadata": {},
   "outputs": [
    {
     "name": "stdout",
     "output_type": "stream",
     "text": [
      "Margin of Error (at 95% confidence):  0.12555096480257902\n",
      "95% Confidence Interval:  [98.1236798  98.37478173]\n"
     ]
    }
   ],
   "source": [
    "ci_95(data)"
   ]
  },
  {
   "cell_type": "markdown",
   "metadata": {},
   "source": [
    "### Bootstrapping Approach"
   ]
  },
  {
   "cell_type": "markdown",
   "metadata": {},
   "source": [
    "Confidence intervals are based on the **percentiles** of the **sampling distribution** of the **statistic of interest**. Therefore, we employ boostrapping to sample thousands of means (as we did before) and take the 95th percentile of these means. This will give us our 95% confidence interval"
   ]
  },
  {
   "cell_type": "markdown",
   "metadata": {},
   "source": [
    "https://stats.stackexchange.com/questions/220242/relationship-between-percentile-and-confidence-interval-on-a-mean"
   ]
  },
  {
   "cell_type": "code",
   "execution_count": 23,
   "metadata": {},
   "outputs": [
    {
     "name": "stdout",
     "output_type": "stream",
     "text": [
      "95% confidence interval:  [98.2323   98.260681]\n"
     ]
    }
   ],
   "source": [
    "bs= np.random.choice(data,10000)\n",
    "bs_means= draw_bs_reps(bs,np.mean,10000)\n",
    "bs_std= draw_bs_reps(bs,np.std,10000)\n",
    "bs_std_mean=np.mean(bs_std)\n",
    "bs_ci_95= np.percentile(bs_means,[2.5,97.5])\n",
    "print(\"95% confidence interval: \", bs_ci_95 )"
   ]
  },
  {
   "cell_type": "markdown",
   "metadata": {},
   "source": [
    "<div class=\"span5 alert alert-success\">\n",
    "<p> The results of the frequentist and bootstrap approaches give 2 temperature intervals <br> <br>\n",
    "\n",
    "Frequentist: 98.12 - 98.37 <br>\n",
    "Bootstrap: 98.24 - 98.26 <br>\n",
    "<br>\n",
    "We will observe the interval of the frequentist test, as it allows for more range of temperatures. An abnormal temperature can then be defined as any temperature that exists *well* outside of this interval. It is important to note that we have a sample of only 130 so our intervals directly reflect a relatively small sample of the entire human population. Therefore we err on the side of caution when claiming a temperature as abnormal. </p> </div>"
   ]
  },
  {
   "cell_type": "markdown",
   "metadata": {},
   "source": [
    "### Is there a significant difference between males and females in normal temperature?"
   ]
  },
  {
   "cell_type": "code",
   "execution_count": 17,
   "metadata": {},
   "outputs": [],
   "source": [
    "female_temp= df[df.gender=='F'].temperature.values\n",
    "male_temp=df[df.gender=='M'].temperature.values"
   ]
  },
  {
   "cell_type": "code",
   "execution_count": 18,
   "metadata": {},
   "outputs": [
    {
     "data": {
      "image/png": "[encoded data removed]",
      "text/plain": [
       "<Figure size 432x288 with 2 Axes>"
      ]
     },
     "metadata": {},
     "output_type": "display_data"
    },
    {
     "name": "stdout",
     "output_type": "stream",
     "text": [
      "female mean temperature:  98.39384615384614\n",
      "male mean temperature:  98.10461538461537\n"
     ]
    }
   ],
   "source": [
    "fig, ax= plt.subplots(1,2)\n",
    "ax[0].hist(male_temp, bins=15, density=True, color='orange')\n",
    "ax[0].set_title('Male Temperature')\n",
    "ax[1].hist(female_temp, bins=15, density=True)\n",
    "ax[1].set_title('Female Temperature')\n",
    "plt.show()\n",
    "print('female mean temperature: ', np.mean(female_temp))\n",
    "print('male mean temperature: ', np.mean(male_temp))"
   ]
  },
  {
   "cell_type": "markdown",
   "metadata": {},
   "source": [
    "Perform a **two-sample t test** to analyze significance of difference between the two mean body temperatures of male and female. This test is used to examine the difference between two means. After filtering the data into male and female datasets, we look at the respective normal body temperatures- or means of the temperatures. We then use this test to analyze the significance in the **difference** of those means by extracting a p-value. We will compare this p-value to a significance level of $\\alpha$ =.05 "
   ]
  },
  {
   "cell_type": "markdown",
   "metadata": {},
   "source": [
    "The method for doing so is outlined at this link https://stattrek.com/hypothesis-test/difference-in-means.aspx?Tutorial=AP"
   ]
  },
  {
   "cell_type": "markdown",
   "metadata": {},
   "source": [
    "**Null hypothesis: np.mean(male_temp) - np.mean(female_temp) = 0**  <br>\n",
    "The normal body temperatures of male and females are equal\n",
    "\n",
    "**Alternative hypothesis: np.mean(male_temp) - np.mean(female_temp) != 0** <br> \n",
    "The normal body tempertatures of male and females are not equal\n"
   ]
  },
  {
   "cell_type": "code",
   "execution_count": 19,
   "metadata": {},
   "outputs": [],
   "source": [
    "def diff_of_means(x,y,tail=1,u=0):\n",
    "    n1, n2= (len(x),len(y))\n",
    "    std1, std2= (np.std(x), np.std(y))\n",
    "    mean1, mean2= (np.mean(x), np.mean(y))\n",
    "    n=n2\n",
    "    if n1<n2:\n",
    "        n=n1\n",
    "    SE= np.sqrt((std1**2/n1)+std2**2/n2)\n",
    "    t_means= ((mean1-mean2)-u)/SE\n",
    "    p_value_means= scipy.stats.t.sf(abs(t_means),n-1)\n",
    "    return p_value_means*tail"
   ]
  },
  {
   "cell_type": "code",
   "execution_count": 20,
   "metadata": {},
   "outputs": [
    {
     "name": "stdout",
     "output_type": "stream",
     "text": [
      "P value for difference of means between male and female normal body temp:  0.024526425958303896\n"
     ]
    }
   ],
   "source": [
    "p_value_diff_of_means= diff_of_means(male_temp, female_temp,2)\n",
    "print(\"P value for difference of means between male and female normal body temp: \", p_value_diff_of_means)"
   ]
  },
  {
   "cell_type": "markdown",
   "metadata": {},
   "source": [
    "<div class=\"span5 alert alert-success\">\n",
    "<p>The results of our two-sample frequentist t test found a p-value of .025, which is less than our significance level of .05. Based upon this test, we reject our null hypothesis which asserted that normal female and male body temperatures are the same. This fact supports our previous finding that both male and female normal body temperatures are not in fact 98.6 degrees fahrenheit. The conclusion of this analysis finds that not only is the human body temperature not 98.6 degrees fahrenheit, but also male and female body temperatures are not equivalent. </p> </div>"
   ]
  }
 ],
 "metadata": {
  "kernelspec": {
   "display_name": "Python 3",
   "language": "python",
   "name": "python3"
  },
  "language_info": {
   "codemirror_mode": {
    "name": "ipython",
    "version": 3
   },
   "file_extension": ".py",
   "mimetype": "text/x-python",
   "name": "python",
   "nbconvert_exporter": "python",
   "pygments_lexer": "ipython3",
   "version": "3.6.5"
  }
 },
 "nbformat": 4,
 "nbformat_minor": 1
}
